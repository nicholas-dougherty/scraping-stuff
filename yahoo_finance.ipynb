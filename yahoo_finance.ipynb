{
 "cells": [
  {
   "cell_type": "code",
   "execution_count": 12,
   "id": "e9b985bc-183d-4e12-af0e-723f3c157ddc",
   "metadata": {},
   "outputs": [],
   "source": [
    "# a quick look at my packages (huehuehue)\n",
    "#pip list"
   ]
  },
  {
   "cell_type": "markdown",
   "id": "b51678d2-4eb8-4f06-b19c-6bf386662670",
   "metadata": {},
   "source": [
    "## Corn Futures from Yahoo Finance"
   ]
  },
  {
   "cell_type": "code",
   "execution_count": 35,
   "id": "671425a3-de4a-4f64-99c8-d07e8470b96c",
   "metadata": {},
   "outputs": [],
   "source": [
    "import yfinance as yf\n",
    "import pandas as pd\n",
    "import numpy as np"
   ]
  },
  {
   "cell_type": "code",
   "execution_count": 18,
   "id": "d0513437-c9d1-44b2-a6b6-a48a673a4156",
   "metadata": {},
   "outputs": [],
   "source": [
    "#Corn Futures is listed on Yahoo Finance under ticker ZC=F\n",
    "cbot = yf.Ticker(\"ZC=F\")\n",
    "\n",
    "# get stock info\n",
    "#cbot.info\n",
    "\n",
    "# get historical market data\n",
    "# The valid options are 1d, 5d, 1mo, 3mo, 6mo, 1y, 2y, 5y, 10y and ytd.\n",
    "hist = cbot.history(period=\"10y\")\n",
    "\n",
    "# show actions (dividends, splits)\n",
    "#cbot.actions\n",
    "\n",
    "# show dividends\n",
    "#cbot.dividends\n",
    "\n",
    "# show splits\n",
    "#cbot.splits"
   ]
  },
  {
   "cell_type": "code",
   "execution_count": 11,
   "id": "0b869701-b822-435d-8671-6d346cb18773",
   "metadata": {},
   "outputs": [
    {
     "data": {
      "text/plain": [
       "{'exchange': 'CBT', 'shortName': 'Corn Futures,Mar-2023', 'exchangeTimezoneName': 'America/New_York', 'exchangeTimezoneShortName': 'EST', 'isEsgPopulated': False, 'gmtOffSetMilliseconds': '-18000000', 'underlyingSymbol': 'ZCH23.CBT', 'quoteType': 'FUTURE', 'symbol': 'ZC=F', 'underlyingExchangeSymbol': 'ZCH23.CBT', 'headSymbol': 'ZC=F', 'market': 'us24_market', 'previousClose': 677, 'regularMarketOpen': 676.75, 'twoHundredDayAverage': 697.16125, 'trailingAnnualDividendYield': None, 'payoutRatio': None, 'volume24Hr': None, 'regularMarketDayHigh': 681, 'navPrice': None, 'averageDailyVolume10Day': 170314, 'totalAssets': None, 'regularMarketPreviousClose': 677, 'fiftyDayAverage': 659.035, 'trailingAnnualDividendRate': None, 'open': 676.75, 'toCurrency': None, 'averageVolume10days': 170314, 'expireDate': 1678752000, 'yield': None, 'algorithm': None, 'dividendRate': None, 'exDividendDate': None, 'beta': None, 'circulatingSupply': None, 'startDate': None, 'regularMarketDayLow': 673.75, 'priceHint': 2, 'currency': 'USX', 'regularMarketVolume': 109673, 'lastMarket': None, 'maxSupply': None, 'openInterest': 486758, 'marketCap': None, 'volumeAllCurrencies': None, 'strikePrice': None, 'averageVolume': 119784, 'priceToSalesTrailing12Months': None, 'dayLow': 673.75, 'ask': 674.5, 'ytdReturn': None, 'askSize': 1400, 'volume': 109673, 'fiftyTwoWeekHigh': 827, 'forwardPE': None, 'maxAge': 1, 'fromCurrency': None, 'fiveYearAvgDividendYield': None, 'fiftyTwoWeekLow': 561.5, 'bid': 674.5, 'tradeable': False, 'dividendYield': None, 'bidSize': 900, 'dayHigh': 681, 'coinMarketCapLink': None, 'regularMarketPrice': 674, 'preMarketPrice': None, 'logo_url': 'https://logo.clearbit.com/Corn.com', 'trailingPegRatio': None}"
      ]
     },
     "execution_count": 11,
     "metadata": {},
     "output_type": "execute_result"
    }
   ],
   "source": [
    "cbot.info"
   ]
  },
  {
   "cell_type": "code",
   "execution_count": 22,
   "id": "008e40fa-b581-482c-8ab5-19c288564d58",
   "metadata": {},
   "outputs": [
    {
     "data": {
      "text/html": [
       "<div><div id=d73312dd-d0fb-4133-bc87-ea94e6d96de0 style=\"display:none; background-color:#9D6CFF; color:white; width:200px; height:30px; padding-left:5px; border-radius:4px; flex-direction:row; justify-content:space-around; align-items:center;\" onmouseover=\"this.style.backgroundColor='#BA9BF8'\" onmouseout=\"this.style.backgroundColor='#9D6CFF'\" onclick=\"window.commands?.execute('create-mitosheet-from-dataframe-output');\">See Full Dataframe in Mito</div> <script> if (window.commands?.hasCommand('create-mitosheet-from-dataframe-output')) document.getElementById('d73312dd-d0fb-4133-bc87-ea94e6d96de0').style.display = 'flex' </script> <table border=\"1\" class=\"dataframe\">\n",
       "  <thead>\n",
       "    <tr style=\"text-align: right;\">\n",
       "      <th></th>\n",
       "      <th>Open</th>\n",
       "      <th>High</th>\n",
       "      <th>Low</th>\n",
       "      <th>Close</th>\n",
       "      <th>Volume</th>\n",
       "      <th>Dividends</th>\n",
       "      <th>Stock Splits</th>\n",
       "    </tr>\n",
       "    <tr>\n",
       "      <th>Date</th>\n",
       "      <th></th>\n",
       "      <th></th>\n",
       "      <th></th>\n",
       "      <th></th>\n",
       "      <th></th>\n",
       "      <th></th>\n",
       "      <th></th>\n",
       "    </tr>\n",
       "  </thead>\n",
       "  <tbody>\n",
       "    <tr>\n",
       "      <th>2013-01-25 00:00:00-05:00</th>\n",
       "      <td>725.00</td>\n",
       "      <td>727.50</td>\n",
       "      <td>717.50</td>\n",
       "      <td>720.75</td>\n",
       "      <td>110652</td>\n",
       "      <td>0.0</td>\n",
       "      <td>0.0</td>\n",
       "    </tr>\n",
       "    <tr>\n",
       "      <th>2013-01-28 00:00:00-05:00</th>\n",
       "      <td>722.75</td>\n",
       "      <td>729.75</td>\n",
       "      <td>719.00</td>\n",
       "      <td>729.25</td>\n",
       "      <td>101032</td>\n",
       "      <td>0.0</td>\n",
       "      <td>0.0</td>\n",
       "    </tr>\n",
       "    <tr>\n",
       "      <th>2013-01-29 00:00:00-05:00</th>\n",
       "      <td>728.50</td>\n",
       "      <td>732.50</td>\n",
       "      <td>727.50</td>\n",
       "      <td>729.50</td>\n",
       "      <td>109083</td>\n",
       "      <td>0.0</td>\n",
       "      <td>0.0</td>\n",
       "    </tr>\n",
       "    <tr>\n",
       "      <th>2013-01-30 00:00:00-05:00</th>\n",
       "      <td>729.00</td>\n",
       "      <td>741.00</td>\n",
       "      <td>725.50</td>\n",
       "      <td>740.25</td>\n",
       "      <td>152247</td>\n",
       "      <td>0.0</td>\n",
       "      <td>0.0</td>\n",
       "    </tr>\n",
       "    <tr>\n",
       "      <th>2013-01-31 00:00:00-05:00</th>\n",
       "      <td>739.25</td>\n",
       "      <td>744.50</td>\n",
       "      <td>734.25</td>\n",
       "      <td>740.50</td>\n",
       "      <td>163800</td>\n",
       "      <td>0.0</td>\n",
       "      <td>0.0</td>\n",
       "    </tr>\n",
       "    <tr>\n",
       "      <th>...</th>\n",
       "      <td>...</td>\n",
       "      <td>...</td>\n",
       "      <td>...</td>\n",
       "      <td>...</td>\n",
       "      <td>...</td>\n",
       "      <td>...</td>\n",
       "      <td>...</td>\n",
       "    </tr>\n",
       "    <tr>\n",
       "      <th>2023-01-19 00:00:00-05:00</th>\n",
       "      <td>680.00</td>\n",
       "      <td>685.25</td>\n",
       "      <td>676.00</td>\n",
       "      <td>677.25</td>\n",
       "      <td>149959</td>\n",
       "      <td>0.0</td>\n",
       "      <td>0.0</td>\n",
       "    </tr>\n",
       "    <tr>\n",
       "      <th>2023-01-20 00:00:00-05:00</th>\n",
       "      <td>675.50</td>\n",
       "      <td>678.00</td>\n",
       "      <td>672.50</td>\n",
       "      <td>676.25</td>\n",
       "      <td>134978</td>\n",
       "      <td>0.0</td>\n",
       "      <td>0.0</td>\n",
       "    </tr>\n",
       "    <tr>\n",
       "      <th>2023-01-23 00:00:00-05:00</th>\n",
       "      <td>674.00</td>\n",
       "      <td>674.75</td>\n",
       "      <td>661.25</td>\n",
       "      <td>666.25</td>\n",
       "      <td>184766</td>\n",
       "      <td>0.0</td>\n",
       "      <td>0.0</td>\n",
       "    </tr>\n",
       "    <tr>\n",
       "      <th>2023-01-24 00:00:00-05:00</th>\n",
       "      <td>667.00</td>\n",
       "      <td>677.50</td>\n",
       "      <td>666.25</td>\n",
       "      <td>677.00</td>\n",
       "      <td>184766</td>\n",
       "      <td>0.0</td>\n",
       "      <td>0.0</td>\n",
       "    </tr>\n",
       "    <tr>\n",
       "      <th>2023-01-25 00:00:00-05:00</th>\n",
       "      <td>676.75</td>\n",
       "      <td>681.00</td>\n",
       "      <td>673.75</td>\n",
       "      <td>674.00</td>\n",
       "      <td>109673</td>\n",
       "      <td>0.0</td>\n",
       "      <td>0.0</td>\n",
       "    </tr>\n",
       "  </tbody>\n",
       "</table></div>"
      ],
      "text/plain": [
       "                             Open    High     Low   Close  Volume  Dividends  \\\n",
       "Date                                                                           \n",
       "2013-01-25 00:00:00-05:00  725.00  727.50  717.50  720.75  110652        0.0   \n",
       "2013-01-28 00:00:00-05:00  722.75  729.75  719.00  729.25  101032        0.0   \n",
       "2013-01-29 00:00:00-05:00  728.50  732.50  727.50  729.50  109083        0.0   \n",
       "2013-01-30 00:00:00-05:00  729.00  741.00  725.50  740.25  152247        0.0   \n",
       "2013-01-31 00:00:00-05:00  739.25  744.50  734.25  740.50  163800        0.0   \n",
       "...                           ...     ...     ...     ...     ...        ...   \n",
       "2023-01-19 00:00:00-05:00  680.00  685.25  676.00  677.25  149959        0.0   \n",
       "2023-01-20 00:00:00-05:00  675.50  678.00  672.50  676.25  134978        0.0   \n",
       "2023-01-23 00:00:00-05:00  674.00  674.75  661.25  666.25  184766        0.0   \n",
       "2023-01-24 00:00:00-05:00  667.00  677.50  666.25  677.00  184766        0.0   \n",
       "2023-01-25 00:00:00-05:00  676.75  681.00  673.75  674.00  109673        0.0   \n",
       "\n",
       "                           Stock Splits  \n",
       "Date                                     \n",
       "2013-01-25 00:00:00-05:00           0.0  \n",
       "2013-01-28 00:00:00-05:00           0.0  \n",
       "2013-01-29 00:00:00-05:00           0.0  \n",
       "2013-01-30 00:00:00-05:00           0.0  \n",
       "2013-01-31 00:00:00-05:00           0.0  \n",
       "...                                 ...  \n",
       "2023-01-19 00:00:00-05:00           0.0  \n",
       "2023-01-20 00:00:00-05:00           0.0  \n",
       "2023-01-23 00:00:00-05:00           0.0  \n",
       "2023-01-24 00:00:00-05:00           0.0  \n",
       "2023-01-25 00:00:00-05:00           0.0  \n",
       "\n",
       "[2514 rows x 7 columns]"
      ]
     },
     "execution_count": 22,
     "metadata": {},
     "output_type": "execute_result"
    }
   ],
   "source": [
    "hist"
   ]
  },
  {
   "cell_type": "code",
   "execution_count": null,
   "id": "15880304-0b7f-451d-95bf-13701004424f",
   "metadata": {},
   "outputs": [],
   "source": [
    "from mitosheet import *; # Analysis Name:id-pcslsuyehd;\n",
    "    \n",
    "# Duplicated hist\n",
    "df = hist.copy(deep=True)\n"
   ]
  },
  {
   "cell_type": "code",
   "execution_count": null,
   "id": "ee1841b5-de3f-4c2e-aa09-63f560f532db",
   "metadata": {},
   "outputs": [],
   "source": [
    "# convert index to a column\n",
    "df.reset_index(inplace=True)"
   ]
  },
  {
   "cell_type": "code",
   "execution_count": 27,
   "id": "416692c9-2a1b-4bda-a0e8-53446ff8cc74",
   "metadata": {},
   "outputs": [
    {
     "data": {
      "text/html": [
       "<div><div id=25f90460-e8aa-4f88-b75f-11b9d75f2098 style=\"display:none; background-color:#9D6CFF; color:white; width:200px; height:30px; padding-left:5px; border-radius:4px; flex-direction:row; justify-content:space-around; align-items:center;\" onmouseover=\"this.style.backgroundColor='#BA9BF8'\" onmouseout=\"this.style.backgroundColor='#9D6CFF'\" onclick=\"window.commands?.execute('create-mitosheet-from-dataframe-output');\">See Full Dataframe in Mito</div> <script> if (window.commands?.hasCommand('create-mitosheet-from-dataframe-output')) document.getElementById('25f90460-e8aa-4f88-b75f-11b9d75f2098').style.display = 'flex' </script> <table border=\"1\" class=\"dataframe\">\n",
       "  <thead>\n",
       "    <tr style=\"text-align: right;\">\n",
       "      <th></th>\n",
       "      <th>Date</th>\n",
       "      <th>Open</th>\n",
       "      <th>High</th>\n",
       "      <th>Low</th>\n",
       "      <th>Close</th>\n",
       "      <th>Volume</th>\n",
       "      <th>Dividends</th>\n",
       "      <th>Stock Splits</th>\n",
       "    </tr>\n",
       "  </thead>\n",
       "  <tbody>\n",
       "    <tr>\n",
       "      <th>0</th>\n",
       "      <td>2013-01-25 00:00:00-05:00</td>\n",
       "      <td>725.00</td>\n",
       "      <td>727.50</td>\n",
       "      <td>717.50</td>\n",
       "      <td>720.75</td>\n",
       "      <td>110652</td>\n",
       "      <td>0.0</td>\n",
       "      <td>0.0</td>\n",
       "    </tr>\n",
       "    <tr>\n",
       "      <th>1</th>\n",
       "      <td>2013-01-28 00:00:00-05:00</td>\n",
       "      <td>722.75</td>\n",
       "      <td>729.75</td>\n",
       "      <td>719.00</td>\n",
       "      <td>729.25</td>\n",
       "      <td>101032</td>\n",
       "      <td>0.0</td>\n",
       "      <td>0.0</td>\n",
       "    </tr>\n",
       "    <tr>\n",
       "      <th>2</th>\n",
       "      <td>2013-01-29 00:00:00-05:00</td>\n",
       "      <td>728.50</td>\n",
       "      <td>732.50</td>\n",
       "      <td>727.50</td>\n",
       "      <td>729.50</td>\n",
       "      <td>109083</td>\n",
       "      <td>0.0</td>\n",
       "      <td>0.0</td>\n",
       "    </tr>\n",
       "    <tr>\n",
       "      <th>3</th>\n",
       "      <td>2013-01-30 00:00:00-05:00</td>\n",
       "      <td>729.00</td>\n",
       "      <td>741.00</td>\n",
       "      <td>725.50</td>\n",
       "      <td>740.25</td>\n",
       "      <td>152247</td>\n",
       "      <td>0.0</td>\n",
       "      <td>0.0</td>\n",
       "    </tr>\n",
       "    <tr>\n",
       "      <th>4</th>\n",
       "      <td>2013-01-31 00:00:00-05:00</td>\n",
       "      <td>739.25</td>\n",
       "      <td>744.50</td>\n",
       "      <td>734.25</td>\n",
       "      <td>740.50</td>\n",
       "      <td>163800</td>\n",
       "      <td>0.0</td>\n",
       "      <td>0.0</td>\n",
       "    </tr>\n",
       "    <tr>\n",
       "      <th>...</th>\n",
       "      <td>...</td>\n",
       "      <td>...</td>\n",
       "      <td>...</td>\n",
       "      <td>...</td>\n",
       "      <td>...</td>\n",
       "      <td>...</td>\n",
       "      <td>...</td>\n",
       "      <td>...</td>\n",
       "    </tr>\n",
       "    <tr>\n",
       "      <th>2509</th>\n",
       "      <td>2023-01-19 00:00:00-05:00</td>\n",
       "      <td>680.00</td>\n",
       "      <td>685.25</td>\n",
       "      <td>676.00</td>\n",
       "      <td>677.25</td>\n",
       "      <td>149959</td>\n",
       "      <td>0.0</td>\n",
       "      <td>0.0</td>\n",
       "    </tr>\n",
       "    <tr>\n",
       "      <th>2510</th>\n",
       "      <td>2023-01-20 00:00:00-05:00</td>\n",
       "      <td>675.50</td>\n",
       "      <td>678.00</td>\n",
       "      <td>672.50</td>\n",
       "      <td>676.25</td>\n",
       "      <td>134978</td>\n",
       "      <td>0.0</td>\n",
       "      <td>0.0</td>\n",
       "    </tr>\n",
       "    <tr>\n",
       "      <th>2511</th>\n",
       "      <td>2023-01-23 00:00:00-05:00</td>\n",
       "      <td>674.00</td>\n",
       "      <td>674.75</td>\n",
       "      <td>661.25</td>\n",
       "      <td>666.25</td>\n",
       "      <td>184766</td>\n",
       "      <td>0.0</td>\n",
       "      <td>0.0</td>\n",
       "    </tr>\n",
       "    <tr>\n",
       "      <th>2512</th>\n",
       "      <td>2023-01-24 00:00:00-05:00</td>\n",
       "      <td>667.00</td>\n",
       "      <td>677.50</td>\n",
       "      <td>666.25</td>\n",
       "      <td>677.00</td>\n",
       "      <td>184766</td>\n",
       "      <td>0.0</td>\n",
       "      <td>0.0</td>\n",
       "    </tr>\n",
       "    <tr>\n",
       "      <th>2513</th>\n",
       "      <td>2023-01-25 00:00:00-05:00</td>\n",
       "      <td>676.75</td>\n",
       "      <td>681.00</td>\n",
       "      <td>673.75</td>\n",
       "      <td>674.00</td>\n",
       "      <td>109673</td>\n",
       "      <td>0.0</td>\n",
       "      <td>0.0</td>\n",
       "    </tr>\n",
       "  </tbody>\n",
       "</table></div>"
      ],
      "text/plain": [
       "                          Date    Open    High     Low   Close  Volume  \\\n",
       "0    2013-01-25 00:00:00-05:00  725.00  727.50  717.50  720.75  110652   \n",
       "1    2013-01-28 00:00:00-05:00  722.75  729.75  719.00  729.25  101032   \n",
       "2    2013-01-29 00:00:00-05:00  728.50  732.50  727.50  729.50  109083   \n",
       "3    2013-01-30 00:00:00-05:00  729.00  741.00  725.50  740.25  152247   \n",
       "4    2013-01-31 00:00:00-05:00  739.25  744.50  734.25  740.50  163800   \n",
       "...                        ...     ...     ...     ...     ...     ...   \n",
       "2509 2023-01-19 00:00:00-05:00  680.00  685.25  676.00  677.25  149959   \n",
       "2510 2023-01-20 00:00:00-05:00  675.50  678.00  672.50  676.25  134978   \n",
       "2511 2023-01-23 00:00:00-05:00  674.00  674.75  661.25  666.25  184766   \n",
       "2512 2023-01-24 00:00:00-05:00  667.00  677.50  666.25  677.00  184766   \n",
       "2513 2023-01-25 00:00:00-05:00  676.75  681.00  673.75  674.00  109673   \n",
       "\n",
       "      Dividends  Stock Splits  \n",
       "0           0.0           0.0  \n",
       "1           0.0           0.0  \n",
       "2           0.0           0.0  \n",
       "3           0.0           0.0  \n",
       "4           0.0           0.0  \n",
       "...         ...           ...  \n",
       "2509        0.0           0.0  \n",
       "2510        0.0           0.0  \n",
       "2511        0.0           0.0  \n",
       "2512        0.0           0.0  \n",
       "2513        0.0           0.0  \n",
       "\n",
       "[2514 rows x 8 columns]"
      ]
     },
     "execution_count": 27,
     "metadata": {},
     "output_type": "execute_result"
    }
   ],
   "source": [
    "df"
   ]
  },
  {
   "cell_type": "code",
   "execution_count": 56,
   "id": "95e58156-97f5-4065-bf74-e979d216f268",
   "metadata": {},
   "outputs": [],
   "source": [
    "#df['Date']\n",
    "# annoying, needless format"
   ]
  },
  {
   "cell_type": "code",
   "execution_count": 33,
   "id": "f229304f-0aa8-4e53-aee7-0b186f8b39cd",
   "metadata": {},
   "outputs": [],
   "source": [
    "dates = df['Date']"
   ]
  },
  {
   "cell_type": "code",
   "execution_count": 36,
   "id": "9f9a9ae4-6a5e-4e79-aede-73a17cdeb0a5",
   "metadata": {},
   "outputs": [
    {
     "name": "stderr",
     "output_type": "stream",
     "text": [
      "/var/folders/qn/sd1_3x2j4196db03067vql600000gn/T/ipykernel_98182/3588991193.py:1: FutureWarning: casting datetime64[ns, America/New_York] values to int64 with .astype(...) is deprecated and will raise in a future version. Use .view(...) instead.\n",
      "  dates = dates.astype(np.int64)\n"
     ]
    },
    {
     "data": {
      "text/plain": [
       "0      2013-01-25\n",
       "1      2013-01-28\n",
       "2      2013-01-29\n",
       "3      2013-01-30\n",
       "4      2013-01-31\n",
       "          ...    \n",
       "2509   2023-01-19\n",
       "2510   2023-01-20\n",
       "2511   2023-01-23\n",
       "2512   2023-01-24\n",
       "2513   2023-01-25\n",
       "Name: Date, Length: 2514, dtype: datetime64[ns]"
      ]
     },
     "execution_count": 36,
     "metadata": {},
     "output_type": "execute_result"
    }
   ],
   "source": [
    "dates = dates.astype(np.int64)\n",
    "ns_in_day = 24*60*60*np.int64(1e9)\n",
    "dates //= ns_in_day\n",
    "dates *= ns_in_day\n",
    "dates = dates.astype(np.dtype('<M8[ns]'))\n",
    "dates = pd.Series(dates)\n",
    "dates"
   ]
  },
  {
   "cell_type": "code",
   "execution_count": 37,
   "id": "ee83cba7-b6de-494d-81cd-58c937f8f5be",
   "metadata": {},
   "outputs": [],
   "source": [
    "df['Date'] = dates"
   ]
  },
  {
   "cell_type": "code",
   "execution_count": 41,
   "id": "45ef07cd-1b06-4f52-bc5f-193aeccc410c",
   "metadata": {},
   "outputs": [],
   "source": [
    "# filter temporal domain to match project needs\n",
    "df = df[(df['Date'] >= '2017-01-01') & (df['Date'] <= '2023-01-25')]"
   ]
  },
  {
   "cell_type": "code",
   "execution_count": 57,
   "id": "3518d480-1f6e-4836-8d28-88f61930997e",
   "metadata": {},
   "outputs": [
    {
     "data": {
      "text/plain": [
       "Index(['Date', 'Open', 'High', 'Low', 'Close', 'Volume', 'Dividends',\n",
       "       'Stock Splits'],\n",
       "      dtype='object')"
      ]
     },
     "execution_count": 57,
     "metadata": {},
     "output_type": "execute_result"
    }
   ],
   "source": [
    "df.columns"
   ]
  },
  {
   "cell_type": "code",
   "execution_count": 60,
   "id": "fd940681-6b21-4024-bd2a-b09d6d6e6ba3",
   "metadata": {},
   "outputs": [],
   "source": [
    "# look at closing costs per year and then average them \n",
    "df2 = df[['Date', 'Close']]"
   ]
  },
  {
   "cell_type": "code",
   "execution_count": 89,
   "id": "ac11b6e4-c8a9-4226-94ae-b5c86b520c41",
   "metadata": {},
   "outputs": [
    {
     "name": "stderr",
     "output_type": "stream",
     "text": [
      "/var/folders/qn/sd1_3x2j4196db03067vql600000gn/T/ipykernel_98182/3863831673.py:5: FutureWarning: DataFrame.mean and DataFrame.median with numeric_only=None will include datetime64 and datetime64tz columns in a future version.\n",
      "  df2[(df2['Date'] >= '2021-01-01') & (df2['Date'] <= '2021-12-31')].mean() # avg closing cost for 2021 is 581.985119\n"
     ]
    },
    {
     "data": {
      "text/plain": [
       "Close    581.985119\n",
       "dtype: float64"
      ]
     },
     "execution_count": 89,
     "metadata": {},
     "output_type": "execute_result"
    }
   ],
   "source": [
    "# df2[df2.Date <= \"2017-12-31\"].mean() # closing mean for 2017 is 359.224104\n",
    "#df2[(df2['Date'] >= '2018-01-01') & (df2['Date'] <= '2018-12-31')].mean() # avg closing cost for 2018 is 368.066265\n",
    "#df2[(df2['Date'] >= '2019-01-01') & (df2['Date'] <= '2019-12-31')].mean() # avg closing cost for 2019 is 383.387897\n",
    "#df2[(df2['Date'] >= '2020-01-01') & (df2['Date'] <= '2020-12-31')].mean() # avg closing cost for 2020 is 363.33004\n",
    "#df2[(df2['Date'] >= '2021-01-01') & (df2['Date'] <= '2021-12-31')].mean() # avg closing cost for 2021 is 581.985119\n",
    "#df2[(df2['Date'] >= '2022-01-01') & (df2['Date'] <= '2022-12-31')].mean() # avg closing cost for 2022 is 693.885458\n",
    "#df2[(df2['Date'] >= '2023-01-01') & (df2['Date'] <= '2023-12-31')].mean() # avg closing cost for 2023 (as of January 25th) is 667.375"
   ]
  },
  {
   "cell_type": "code",
   "execution_count": 72,
   "id": "a3c1e4b3-0a47-4daf-a2a1-9e10debb2bc0",
   "metadata": {},
   "outputs": [
    {
     "data": {
      "text/html": [
       "<div><div id=da60201b-c423-4233-bd5e-5d82e866e1a9 style=\"display:none; background-color:#9D6CFF; color:white; width:200px; height:30px; padding-left:5px; border-radius:4px; flex-direction:row; justify-content:space-around; align-items:center;\" onmouseover=\"this.style.backgroundColor='#BA9BF8'\" onmouseout=\"this.style.backgroundColor='#9D6CFF'\" onclick=\"window.commands?.execute('create-mitosheet-from-dataframe-output');\">See Full Dataframe in Mito</div> <script> if (window.commands?.hasCommand('create-mitosheet-from-dataframe-output')) document.getElementById('da60201b-c423-4233-bd5e-5d82e866e1a9').style.display = 'flex' </script> <table border=\"1\" class=\"dataframe\">\n",
       "  <thead>\n",
       "    <tr style=\"text-align: right;\">\n",
       "      <th></th>\n",
       "      <th>year</th>\n",
       "      <th>avg_closing_cost</th>\n",
       "    </tr>\n",
       "  </thead>\n",
       "  <tbody>\n",
       "    <tr>\n",
       "      <th>0</th>\n",
       "      <td>2017</td>\n",
       "      <td>359.224104</td>\n",
       "    </tr>\n",
       "    <tr>\n",
       "      <th>1</th>\n",
       "      <td>2018</td>\n",
       "      <td>368.066265</td>\n",
       "    </tr>\n",
       "    <tr>\n",
       "      <th>2</th>\n",
       "      <td>2019</td>\n",
       "      <td>383.387897</td>\n",
       "    </tr>\n",
       "    <tr>\n",
       "      <th>3</th>\n",
       "      <td>2020</td>\n",
       "      <td>363.330040</td>\n",
       "    </tr>\n",
       "    <tr>\n",
       "      <th>4</th>\n",
       "      <td>2021</td>\n",
       "      <td>581.985119</td>\n",
       "    </tr>\n",
       "    <tr>\n",
       "      <th>5</th>\n",
       "      <td>2022</td>\n",
       "      <td>693.885458</td>\n",
       "    </tr>\n",
       "    <tr>\n",
       "      <th>6</th>\n",
       "      <td>2023</td>\n",
       "      <td>667.375000</td>\n",
       "    </tr>\n",
       "  </tbody>\n",
       "</table></div>"
      ],
      "text/plain": [
       "   year  avg_closing_cost\n",
       "0  2017        359.224104\n",
       "1  2018        368.066265\n",
       "2  2019        383.387897\n",
       "3  2020        363.330040\n",
       "4  2021        581.985119\n",
       "5  2022        693.885458\n",
       "6  2023        667.375000"
      ]
     },
     "execution_count": 72,
     "metadata": {},
     "output_type": "execute_result"
    }
   ],
   "source": [
    "# make a dictionary with the results, convert it to a pandas date frame, then save as csv\n",
    "comp = {'year': ['2017', '2018', '2019', '2020', '2021', '2022', '2023'],\n",
    "        'avg_closing_cost': [359.224104, 368.066265, 383.387897, 363.33004, 581.985119, 693.885458, 667.375]\n",
    "       }\n",
    "df3 = pd.DataFrame(data=comp)\n",
    "df3"
   ]
  },
  {
   "cell_type": "code",
   "execution_count": 74,
   "id": "4ad5b0b6-9572-47e2-97c6-bf3edfe49311",
   "metadata": {},
   "outputs": [],
   "source": [
    "# save as csv\n",
    "df3.to_csv('corn_futures_avg_closing_cost_per_year.csv')"
   ]
  },
  {
   "cell_type": "markdown",
   "id": "94df18c1-a101-442a-b43b-a651cf771e3c",
   "metadata": {},
   "source": [
    "## Soybean Futures from Yahoo Finance"
   ]
  },
  {
   "cell_type": "code",
   "execution_count": 75,
   "id": "a23623d2-dbb0-47b6-bb5c-1f57f4fd529e",
   "metadata": {},
   "outputs": [],
   "source": [
    "# soybean Futures is listed on Yahoo Finance under ticker ZC=F\n",
    "soy = yf.Ticker(\"ZS=F\")\n",
    "\n",
    "# get stock info\n",
    "#soy.info\n",
    "\n",
    "# get historical market data\n",
    "# The valid options are 1d, 5d, 1mo, 3mo, 6mo, 1y, 2y, 5y, 10y and ytd.\n",
    "hist2 = soy.history(period=\"10y\")"
   ]
  },
  {
   "cell_type": "code",
   "execution_count": 79,
   "id": "cbfc3478-c5f3-46fd-be04-2e2f6acc363e",
   "metadata": {},
   "outputs": [
    {
     "data": {
      "text/html": [
       "<div><div id=376503ac-0b1a-49cd-b247-1c834d5e2f55 style=\"display:none; background-color:#9D6CFF; color:white; width:200px; height:30px; padding-left:5px; border-radius:4px; flex-direction:row; justify-content:space-around; align-items:center;\" onmouseover=\"this.style.backgroundColor='#BA9BF8'\" onmouseout=\"this.style.backgroundColor='#9D6CFF'\" onclick=\"window.commands?.execute('create-mitosheet-from-dataframe-output');\">See Full Dataframe in Mito</div> <script> if (window.commands?.hasCommand('create-mitosheet-from-dataframe-output')) document.getElementById('376503ac-0b1a-49cd-b247-1c834d5e2f55').style.display = 'flex' </script> <table border=\"1\" class=\"dataframe\">\n",
       "  <thead>\n",
       "    <tr style=\"text-align: right;\">\n",
       "      <th></th>\n",
       "      <th>Date</th>\n",
       "      <th>Open</th>\n",
       "      <th>High</th>\n",
       "      <th>Low</th>\n",
       "      <th>Close</th>\n",
       "      <th>Volume</th>\n",
       "      <th>Dividends</th>\n",
       "      <th>Stock Splits</th>\n",
       "    </tr>\n",
       "  </thead>\n",
       "  <tbody>\n",
       "    <tr>\n",
       "      <th>0</th>\n",
       "      <td>2013-01-25 00:00:00-05:00</td>\n",
       "      <td>1436.00</td>\n",
       "      <td>1445.00</td>\n",
       "      <td>1426.00</td>\n",
       "      <td>1441.00</td>\n",
       "      <td>95885</td>\n",
       "      <td>0.0</td>\n",
       "      <td>0.0</td>\n",
       "    </tr>\n",
       "    <tr>\n",
       "      <th>1</th>\n",
       "      <td>2013-01-28 00:00:00-05:00</td>\n",
       "      <td>1446.50</td>\n",
       "      <td>1452.50</td>\n",
       "      <td>1434.75</td>\n",
       "      <td>1447.75</td>\n",
       "      <td>86823</td>\n",
       "      <td>0.0</td>\n",
       "      <td>0.0</td>\n",
       "    </tr>\n",
       "    <tr>\n",
       "      <th>2</th>\n",
       "      <td>2013-01-29 00:00:00-05:00</td>\n",
       "      <td>1445.75</td>\n",
       "      <td>1458.00</td>\n",
       "      <td>1441.00</td>\n",
       "      <td>1451.75</td>\n",
       "      <td>84650</td>\n",
       "      <td>0.0</td>\n",
       "      <td>0.0</td>\n",
       "    </tr>\n",
       "    <tr>\n",
       "      <th>3</th>\n",
       "      <td>2013-01-30 00:00:00-05:00</td>\n",
       "      <td>1450.25</td>\n",
       "      <td>1481.75</td>\n",
       "      <td>1447.00</td>\n",
       "      <td>1478.75</td>\n",
       "      <td>138947</td>\n",
       "      <td>0.0</td>\n",
       "      <td>0.0</td>\n",
       "    </tr>\n",
       "    <tr>\n",
       "      <th>4</th>\n",
       "      <td>2013-01-31 00:00:00-05:00</td>\n",
       "      <td>1477.25</td>\n",
       "      <td>1484.25</td>\n",
       "      <td>1455.00</td>\n",
       "      <td>1468.50</td>\n",
       "      <td>138487</td>\n",
       "      <td>0.0</td>\n",
       "      <td>0.0</td>\n",
       "    </tr>\n",
       "    <tr>\n",
       "      <th>...</th>\n",
       "      <td>...</td>\n",
       "      <td>...</td>\n",
       "      <td>...</td>\n",
       "      <td>...</td>\n",
       "      <td>...</td>\n",
       "      <td>...</td>\n",
       "      <td>...</td>\n",
       "      <td>...</td>\n",
       "    </tr>\n",
       "    <tr>\n",
       "      <th>2511</th>\n",
       "      <td>2023-01-19 00:00:00-05:00</td>\n",
       "      <td>1523.50</td>\n",
       "      <td>1528.50</td>\n",
       "      <td>1509.00</td>\n",
       "      <td>1514.75</td>\n",
       "      <td>124401</td>\n",
       "      <td>0.0</td>\n",
       "      <td>0.0</td>\n",
       "    </tr>\n",
       "    <tr>\n",
       "      <th>2512</th>\n",
       "      <td>2023-01-20 00:00:00-05:00</td>\n",
       "      <td>1514.25</td>\n",
       "      <td>1521.75</td>\n",
       "      <td>1504.00</td>\n",
       "      <td>1506.50</td>\n",
       "      <td>98916</td>\n",
       "      <td>0.0</td>\n",
       "      <td>0.0</td>\n",
       "    </tr>\n",
       "    <tr>\n",
       "      <th>2513</th>\n",
       "      <td>2023-01-23 00:00:00-05:00</td>\n",
       "      <td>1500.00</td>\n",
       "      <td>1503.00</td>\n",
       "      <td>1479.75</td>\n",
       "      <td>1490.25</td>\n",
       "      <td>134889</td>\n",
       "      <td>0.0</td>\n",
       "      <td>0.0</td>\n",
       "    </tr>\n",
       "    <tr>\n",
       "      <th>2514</th>\n",
       "      <td>2023-01-24 00:00:00-05:00</td>\n",
       "      <td>1491.50</td>\n",
       "      <td>1506.50</td>\n",
       "      <td>1487.00</td>\n",
       "      <td>1488.50</td>\n",
       "      <td>134889</td>\n",
       "      <td>0.0</td>\n",
       "      <td>0.0</td>\n",
       "    </tr>\n",
       "    <tr>\n",
       "      <th>2515</th>\n",
       "      <td>2023-01-25 00:00:00-05:00</td>\n",
       "      <td>1488.25</td>\n",
       "      <td>1504.75</td>\n",
       "      <td>1478.25</td>\n",
       "      <td>1503.50</td>\n",
       "      <td>105597</td>\n",
       "      <td>0.0</td>\n",
       "      <td>0.0</td>\n",
       "    </tr>\n",
       "  </tbody>\n",
       "</table></div>"
      ],
      "text/plain": [
       "                          Date     Open     High      Low    Close  Volume  \\\n",
       "0    2013-01-25 00:00:00-05:00  1436.00  1445.00  1426.00  1441.00   95885   \n",
       "1    2013-01-28 00:00:00-05:00  1446.50  1452.50  1434.75  1447.75   86823   \n",
       "2    2013-01-29 00:00:00-05:00  1445.75  1458.00  1441.00  1451.75   84650   \n",
       "3    2013-01-30 00:00:00-05:00  1450.25  1481.75  1447.00  1478.75  138947   \n",
       "4    2013-01-31 00:00:00-05:00  1477.25  1484.25  1455.00  1468.50  138487   \n",
       "...                        ...      ...      ...      ...      ...     ...   \n",
       "2511 2023-01-19 00:00:00-05:00  1523.50  1528.50  1509.00  1514.75  124401   \n",
       "2512 2023-01-20 00:00:00-05:00  1514.25  1521.75  1504.00  1506.50   98916   \n",
       "2513 2023-01-23 00:00:00-05:00  1500.00  1503.00  1479.75  1490.25  134889   \n",
       "2514 2023-01-24 00:00:00-05:00  1491.50  1506.50  1487.00  1488.50  134889   \n",
       "2515 2023-01-25 00:00:00-05:00  1488.25  1504.75  1478.25  1503.50  105597   \n",
       "\n",
       "      Dividends  Stock Splits  \n",
       "0           0.0           0.0  \n",
       "1           0.0           0.0  \n",
       "2           0.0           0.0  \n",
       "3           0.0           0.0  \n",
       "4           0.0           0.0  \n",
       "...         ...           ...  \n",
       "2511        0.0           0.0  \n",
       "2512        0.0           0.0  \n",
       "2513        0.0           0.0  \n",
       "2514        0.0           0.0  \n",
       "2515        0.0           0.0  \n",
       "\n",
       "[2516 rows x 8 columns]"
      ]
     },
     "execution_count": 79,
     "metadata": {},
     "output_type": "execute_result"
    }
   ],
   "source": [
    "df4\n",
    "df4.reset_index(inplace=True)"
   ]
  },
  {
   "cell_type": "code",
   "execution_count": 81,
   "id": "1df92e79-d3ba-45b9-a96f-db99d85f8353",
   "metadata": {},
   "outputs": [
    {
     "name": "stderr",
     "output_type": "stream",
     "text": [
      "/var/folders/qn/sd1_3x2j4196db03067vql600000gn/T/ipykernel_98182/785655489.py:2: FutureWarning: casting datetime64[ns, America/New_York] values to int64 with .astype(...) is deprecated and will raise in a future version. Use .view(...) instead.\n",
      "  dates = dates.astype(np.int64)\n"
     ]
    }
   ],
   "source": [
    "dates = df4['Date']\n",
    "dates = dates.astype(np.int64)\n",
    "ns_in_day = 24*60*60*np.int64(1e9)\n",
    "dates //= ns_in_day\n",
    "dates *= ns_in_day\n",
    "dates = dates.astype(np.dtype('<M8[ns]'))\n",
    "dates = pd.Series(dates)\n",
    "df4['Date'] = dates"
   ]
  },
  {
   "cell_type": "code",
   "execution_count": 83,
   "id": "ea1220de-dcb4-4b6c-8036-553542721dea",
   "metadata": {},
   "outputs": [],
   "source": [
    "df4.to_csv('soybeanfutures_unfiltered_unclassified.csv')"
   ]
  },
  {
   "cell_type": "code",
   "execution_count": 95,
   "id": "e6c975ab-bf2d-4bf5-b4f3-382d3dd2fa18",
   "metadata": {},
   "outputs": [
    {
     "name": "stderr",
     "output_type": "stream",
     "text": [
      "/var/folders/qn/sd1_3x2j4196db03067vql600000gn/T/ipykernel_98182/3137008916.py:10: FutureWarning: DataFrame.mean and DataFrame.median with numeric_only=None will include datetime64 and datetime64tz columns in a future version.\n",
      "  df5[(df5['Date'] >= '2023-01-01') & (df5['Date'] <= '2023-12-31')].mean() # avg closing cost for 2023 (as of January 25th) is 667.375\n"
     ]
    },
    {
     "data": {
      "text/plain": [
       "Close    1506.109375\n",
       "dtype: float64"
      ]
     },
     "execution_count": 95,
     "metadata": {},
     "output_type": "execute_result"
    }
   ],
   "source": [
    "# filter temporal domain to match project needs\n",
    "#df4 = df4[(df4['Date'] >= '2017-01-01') & (df4['Date'] <= '2023-01-25')]\n",
    "#df5 = df4[['Date', 'Close']]\n",
    "#df5[df5.Date <= \"2017-12-31\"].mean() # closing mean for 2017 is 975.654382\n",
    "#df5[(df5['Date'] >= '2018-01-01') & (df5['Date'] <= '2018-12-31')].mean() # avg closing cost for 2018 is 931.785857\n",
    "#df5[(df5['Date'] >= '2019-01-01') & (df5['Date'] <= '2019-12-31')].mean() # avg closing cost for 2019 is 889.674603\n",
    "#df5[(df5['Date'] >= '2020-01-01') & (df5['Date'] <= '2020-12-31')].mean() # avg closing cost for 2020 is 952.947628\n",
    "#df5[(df5['Date'] >= '2021-01-01') & (df5['Date'] <= '2021-12-31')].mean() # avg closing cost for 2021 is 1374.558532\n",
    "#df5[(df5['Date'] >= '2022-01-01') & (df5['Date'] <= '2022-12-31')].mean() # avg closing cost for 2022 is 693.885458\n",
    "df5[(df5['Date'] >= '2023-01-01') & (df5['Date'] <= '2023-12-31')].mean() # avg closing cost for 2023 (as of January 25th) is 667.375"
   ]
  },
  {
   "cell_type": "code",
   "execution_count": 96,
   "id": "16489131-2228-4448-a258-efead2c1b3f9",
   "metadata": {},
   "outputs": [
    {
     "data": {
      "text/html": [
       "<div><div id=abbf57c6-d26e-42be-ae25-600f2c6c8988 style=\"display:none; background-color:#9D6CFF; color:white; width:200px; height:30px; padding-left:5px; border-radius:4px; flex-direction:row; justify-content:space-around; align-items:center;\" onmouseover=\"this.style.backgroundColor='#BA9BF8'\" onmouseout=\"this.style.backgroundColor='#9D6CFF'\" onclick=\"window.commands?.execute('create-mitosheet-from-dataframe-output');\">See Full Dataframe in Mito</div> <script> if (window.commands?.hasCommand('create-mitosheet-from-dataframe-output')) document.getElementById('abbf57c6-d26e-42be-ae25-600f2c6c8988').style.display = 'flex' </script> <table border=\"1\" class=\"dataframe\">\n",
       "  <thead>\n",
       "    <tr style=\"text-align: right;\">\n",
       "      <th></th>\n",
       "      <th>year</th>\n",
       "      <th>avg_closing_cost</th>\n",
       "    </tr>\n",
       "  </thead>\n",
       "  <tbody>\n",
       "    <tr>\n",
       "      <th>0</th>\n",
       "      <td>2017</td>\n",
       "      <td>975.654382</td>\n",
       "    </tr>\n",
       "    <tr>\n",
       "      <th>1</th>\n",
       "      <td>2018</td>\n",
       "      <td>931.785857</td>\n",
       "    </tr>\n",
       "    <tr>\n",
       "      <th>2</th>\n",
       "      <td>2019</td>\n",
       "      <td>889.674603</td>\n",
       "    </tr>\n",
       "    <tr>\n",
       "      <th>3</th>\n",
       "      <td>2020</td>\n",
       "      <td>952.947628</td>\n",
       "    </tr>\n",
       "    <tr>\n",
       "      <th>4</th>\n",
       "      <td>2021</td>\n",
       "      <td>1374.558532</td>\n",
       "    </tr>\n",
       "    <tr>\n",
       "      <th>5</th>\n",
       "      <td>2022</td>\n",
       "      <td>1550.662351</td>\n",
       "    </tr>\n",
       "    <tr>\n",
       "      <th>6</th>\n",
       "      <td>2023</td>\n",
       "      <td>1506.109375</td>\n",
       "    </tr>\n",
       "  </tbody>\n",
       "</table></div>"
      ],
      "text/plain": [
       "   year  avg_closing_cost\n",
       "0  2017        975.654382\n",
       "1  2018        931.785857\n",
       "2  2019        889.674603\n",
       "3  2020        952.947628\n",
       "4  2021       1374.558532\n",
       "5  2022       1550.662351\n",
       "6  2023       1506.109375"
      ]
     },
     "execution_count": 96,
     "metadata": {},
     "output_type": "execute_result"
    }
   ],
   "source": [
    "# make a dictionary with the results, convert it to a pandas date frame, then save as csv\n",
    "comp2 = {'year': ['2017', '2018', '2019', '2020', '2021', '2022', '2023'],\n",
    "        'avg_closing_cost': [975.654382, 931.785857, 889.674603, 952.947628, 1374.558532, 1550.662351, 1506.109375]\n",
    "       }\n",
    "df6 = pd.DataFrame(data=comp2)\n",
    "df6"
   ]
  },
  {
   "cell_type": "code",
   "execution_count": 97,
   "id": "7231c38a-b57e-41dc-9b6d-aba3cbc28346",
   "metadata": {},
   "outputs": [],
   "source": [
    "df6.to_csv('avg_closing_costs_soy_unclassified_yahoo_finance.csv')"
   ]
  },
  {
   "cell_type": "markdown",
   "id": "b9e6d862-9b9e-496d-a880-1fc1b7199af5",
   "metadata": {},
   "source": [
    "## Cotton\n",
    "### Cotton does not come from the Chicago Board of Trade (CBOT), this may be a problem. Holding off for now."
   ]
  },
  {
   "cell_type": "code",
   "execution_count": 98,
   "id": "2c118af1-53ff-41b9-a824-2299fd5697ab",
   "metadata": {},
   "outputs": [],
   "source": [
    "# Cotton derived from ICE Futures. Currency in USX is listed on Yahoo Finance under ticker CT=F\n",
    "cotton = yf.Ticker(\"CT=F\")\n",
    "\n",
    "# get stock info\n",
    "#cotton.info\n",
    "\n",
    "# get historical market data\n",
    "# The valid options are 1d, 5d, 1mo, 3mo, 6mo, 1y, 2y, 5y, 10y and ytd.\n",
    "hist3 = cotton.history(period=\"10y\")"
   ]
  },
  {
   "cell_type": "code",
   "execution_count": 99,
   "id": "d86a894a-5638-430b-800c-e0f6c2d503cb",
   "metadata": {},
   "outputs": [],
   "source": [
    "df7 = hist3\n",
    "df7.reset_index(inplace=True)"
   ]
  },
  {
   "cell_type": "code",
   "execution_count": 100,
   "id": "6f0be643-122b-4c14-90e2-32aea1a8bfce",
   "metadata": {},
   "outputs": [
    {
     "name": "stderr",
     "output_type": "stream",
     "text": [
      "/var/folders/qn/sd1_3x2j4196db03067vql600000gn/T/ipykernel_98182/1709599468.py:2: FutureWarning: casting datetime64[ns, America/New_York] values to int64 with .astype(...) is deprecated and will raise in a future version. Use .view(...) instead.\n",
      "  dates = dates.astype(np.int64)\n"
     ]
    }
   ],
   "source": [
    "dates = df7['Date']\n",
    "dates = dates.astype(np.int64)\n",
    "ns_in_day = 24*60*60*np.int64(1e9)\n",
    "dates //= ns_in_day\n",
    "dates *= ns_in_day\n",
    "dates = dates.astype(np.dtype('<M8[ns]'))\n",
    "dates = pd.Series(dates)\n",
    "df7['Date'] = dates"
   ]
  },
  {
   "cell_type": "code",
   "execution_count": 101,
   "id": "468bb34d-e758-48dd-8f30-091e3152eee6",
   "metadata": {},
   "outputs": [],
   "source": [
    "df7.to_csv('cottonfutures_unfiltered_unclassified.csv')"
   ]
  },
  {
   "cell_type": "code",
   "execution_count": 110,
   "id": "27b4bdb9-a1c6-4baf-864e-40ba43cc7642",
   "metadata": {},
   "outputs": [
    {
     "name": "stderr",
     "output_type": "stream",
     "text": [
      "/var/folders/qn/sd1_3x2j4196db03067vql600000gn/T/ipykernel_98182/1351360276.py:10: FutureWarning: DataFrame.mean and DataFrame.median with numeric_only=None will include datetime64 and datetime64tz columns in a future version.\n",
      "  df9[(df9['Date'] >= '2023-01-01') & (df9['Date'] <= '2023-12-31')].mean() # avg closing cost for 2023 (as of January 25th) is 667.375\n"
     ]
    },
    {
     "data": {
      "text/plain": [
       "Close    84.224706\n",
       "dtype: float64"
      ]
     },
     "execution_count": 110,
     "metadata": {},
     "output_type": "execute_result"
    }
   ],
   "source": [
    "# filter temporal domain to match project needs\n",
    "df8 = df7[(df7['Date'] >= '2017-01-01') & (df7['Date'] <= '2023-01-25')]\n",
    "df9 = df8[['Date', 'Close']]\n",
    "#df9[df9.Date <= \"2017-12-31\"].mean() # closing mean for 2017 is 73.476255\n",
    "#df9[(df9['Date'] >= '2018-01-01') & (df9['Date'] <= '2018-12-31')].mean() # avg closing cost for 2018 is 82.145538\n",
    "#df9[(df9['Date'] >= '2019-01-01') & (df9['Date'] <= '2019-12-31')].mean() # avg closing cost for 2019 is 67.194484\n",
    "#df9[(df9['Date'] >= '2020-01-01') & (df9['Date'] <= '2020-12-31')].mean() # avg closing cost for 2020 is 64.146285\n",
    "#df9[(df9['Date'] >= '2021-01-01') & (df9['Date'] <= '2021-12-31')].mean() # avg closing cost for 2021 is 93.63162\n",
    "#df9[(df9['Date'] >= '2022-01-01') & (df9['Date'] <= '2022-12-31')].mean() # avg closing cost for 2022 is 112.61761\n",
    "df9[(df9['Date'] >= '2023-01-01') & (df9['Date'] <= '2023-12-31')].mean() # avg closing cost for 2023 (as of January 25th) is 667.375"
   ]
  },
  {
   "cell_type": "code",
   "execution_count": null,
   "id": "719221db-5c34-4dc1-8b23-073eff308d76",
   "metadata": {},
   "outputs": [],
   "source": [
    "# make a dictionary with the results, convert it to a pandas date frame, then save as csv\n",
    "comp2 = {'year': ['2017', '2018', '2019', '2020', '2021', '2022', '2023'],\n",
    "        'avg_closing_cost': [73.476255, 82.145538, 67.194484, 64.146285, 93.63162, 112.61761, 84.224706]\n",
    "       }\n",
    "df6 = pd.DataFrame(data=comp2)\n",
    "df6"
   ]
  }
 ],
 "metadata": {
  "kernelspec": {
   "display_name": "Python 3 (ipykernel)",
   "language": "python",
   "name": "python3"
  },
  "language_info": {
   "codemirror_mode": {
    "name": "ipython",
    "version": 3
   },
   "file_extension": ".py",
   "mimetype": "text/x-python",
   "name": "python",
   "nbconvert_exporter": "python",
   "pygments_lexer": "ipython3",
   "version": "3.9.7"
  }
 },
 "nbformat": 4,
 "nbformat_minor": 5
}
